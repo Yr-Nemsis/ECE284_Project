{
 "cells": [
  {
   "cell_type": "markdown",
   "metadata": {},
   "source": [
    "## Input File Compression"
   ]
  },
  {
   "cell_type": "markdown",
   "metadata": {},
   "source": [
    "### 1. Run-length Compression (4 bits for Run and 4 bits for length)"
   ]
  },
  {
   "cell_type": "code",
   "execution_count": 27,
   "metadata": {},
   "outputs": [],
   "source": [
    "origin_w = []\n",
    "origin_act = []\n",
    "\n",
    "with open(\"../poster/original_weights.txt\", 'r') as act_file:\n",
    "    for line in act_file:\n",
    "        line = line.strip()  # Remove leading/trailing spaces\n",
    "        for i in range(0, len(line), 4):\n",
    "            bin = line[i:i + 4]  # Extract a 4-bit number\n",
    "            origin_w.append(int(bin, 2))\n",
    "\n",
    "with open(\"../poster/original_activations.txt\", 'r') as w_file:\n",
    "    for line in w_file:\n",
    "        line = line.strip()  # Remove leading/trailing spaces\n",
    "        for i in range(0, len(line), 4):\n",
    "            bin = line[i:i + 4]  # Extract a 4-bit number\n",
    "            origin_act.append(int(bin, 2))"
   ]
  },
  {
   "cell_type": "code",
   "execution_count": 28,
   "metadata": {},
   "outputs": [],
   "source": [
    "# Initialize an empty compressed binary string\n",
    "compressed_binary = \"\"\n",
    "\n",
    "# Initialize variables to keep track of the current run length and level\n",
    "current_run_length = 0\n",
    "current_level = None\n",
    "\n",
    "# Iterate through the elements in the list\n",
    "for value in origin_w:\n",
    "    if value == 0:\n",
    "        if current_run_length == 15:\n",
    "            compressed_binary += format(current_run_length, '04b')  # 4 bits for run length\n",
    "            compressed_binary += format(value, '04b')  # 4 bits for level\n",
    "            current_run_length = 0\n",
    "        # If the value is 0, increase the run length\n",
    "        else:\n",
    "            current_run_length += 1\n",
    "    else:\n",
    "        # If the value is non-zero, append the run length and level as 4-bit binary strings\n",
    "        compressed_binary += format(current_run_length, '04b')  # 4 bits for run length\n",
    "        compressed_binary += format(value, '04b')  # 4 bits for level\n",
    "        # Reset the run length\n",
    "        current_run_length = 0\n",
    "\n",
    "if current_run_length == 0:\n",
    "    compressed_binary += \"0\"  # Add the termination bit at the end\n",
    "else:\n",
    "    # Add the final run length and level to the compressed binary string\n",
    "    compressed_binary += format(current_run_length, '04b')  # 4 bits for run length\n",
    "    compressed_binary += \"0000\"  # Assuming a non-zero level of 0 \n",
    "    compressed_binary += \"0\"  # Add the termination bit at the end\n",
    "\n",
    "file = open('RLC_weights.txt', 'w') #write to file\n",
    "file.write(compressed_binary)    \n",
    "file.close()\n"
   ]
  },
  {
   "cell_type": "code",
   "execution_count": 29,
   "metadata": {},
   "outputs": [],
   "source": [
    "# Initialize an empty compressed binary string\n",
    "compressed_binary = \"\"\n",
    "\n",
    "# Initialize variables to keep track of the current run length and level\n",
    "current_run_length = 0\n",
    "current_level = None\n",
    "\n",
    "# Iterate through the elements in the list\n",
    "for value in origin_act:\n",
    "    if value == 0:\n",
    "        if current_run_length == 15:\n",
    "            compressed_binary += format(current_run_length, '04b')  # 4 bits for run length\n",
    "            compressed_binary += format(value, '04b')  # 4 bits for level\n",
    "            current_run_length = 0\n",
    "        # If the value is 0, increase the run length\n",
    "        else:\n",
    "            current_run_length += 1\n",
    "    else:\n",
    "        # If the value is non-zero, append the run length and level as 4-bit binary strings\n",
    "        compressed_binary += format(current_run_length, '04b')  # 4 bits for run length\n",
    "        compressed_binary += format(value, '04b')  # 4 bits for level\n",
    "        # Reset the run length\n",
    "        current_run_length = 0\n",
    "\n",
    "if current_run_length == 0:\n",
    "    compressed_binary += \"0\"  # Add the termination bit at the end\n",
    "else:\n",
    "    # Add the final run length and level to the compressed binary string\n",
    "    compressed_binary += format(current_run_length, '04b')  # 4 bits for run length\n",
    "    compressed_binary += \"0000\"  # Assuming a non-zero level of 0 \n",
    "    compressed_binary += \"0\"  # Add the termination bit at the end\n",
    "\n",
    "file = open('RLC_activations.txt', 'w') #write to file\n",
    "file.write(compressed_binary)    \n",
    "file.close()\n"
   ]
  },
  {
   "cell_type": "markdown",
   "metadata": {},
   "source": [
    "### 2. Compressed Sparse Column (CSC) format"
   ]
  },
  {
   "cell_type": "code",
   "execution_count": 2,
   "metadata": {},
   "outputs": [],
   "source": [
    "origin_w = []\n",
    "origin_act = []\n",
    "\n",
    "with open(\"../poster/original_weights.txt\", 'r') as act_file:\n",
    "    for line in act_file:\n",
    "        temp = []\n",
    "        line = line.strip()  # Remove leading/trailing spaces\n",
    "        for i in range(0, len(line), 4):\n",
    "            bin = line[i:i + 4]  # Extract a 4-bit number\n",
    "            temp.append(int(bin, 2))\n",
    "        origin_w.append(temp)\n",
    "\n",
    "with open(\"../poster/original_activations.txt\", 'r') as w_file:\n",
    "    for line in w_file:\n",
    "        temp = []\n",
    "        line = line.strip()  # Remove leading/trailing spaces\n",
    "        for i in range(0, len(line), 4):\n",
    "            bin = line[i:i + 4]  # Extract a 4-bit number\n",
    "            temp.append(int(bin, 2))\n",
    "        origin_act.append(temp)"
   ]
  },
  {
   "cell_type": "code",
   "execution_count": 41,
   "metadata": {},
   "outputs": [],
   "source": [
    "import numpy as np\n",
    "\n",
    "origin_w = np.array(origin_w)\n",
    "\n",
    "IP_list = np.array([0])\n",
    "RI_list = np.array([])\n",
    "data = np.array([])\n",
    "\n",
    "for i in range(len(origin_w[0])):\n",
    "    IP = IP_list[len(IP_list)-1] + np.sum(origin_w[:,i] != 0)\n",
    "    IP_list = np.append(IP_list,IP)\n",
    "\n",
    "    RI = np.nonzero(origin_w[:,i])[0]\n",
    "    if RI_list.size == 0:\n",
    "        RI_list = RI\n",
    "    elif RI.size != 0:\n",
    "        RI_list = np.hstack((RI_list, RI))\n",
    "\n",
    "    datum = origin_w[:,i][RI]\n",
    "    if data.size == 0:\n",
    "        data = datum\n",
    "    elif datum.size != 0:\n",
    "        data = np.hstack((data, datum))"
   ]
  },
  {
   "cell_type": "code",
   "execution_count": 62,
   "metadata": {},
   "outputs": [],
   "source": [
    "IP_str = \"\"\n",
    "RI_str = \"\"\n",
    "data_str = \"\"\n",
    "\n",
    "for d in IP_list:\n",
    "    IP_str = IP_str + '{0:08b}'.format(d)\n",
    "\n",
    "for d in RI_list:\n",
    "    RI_str = RI_str + '{0:08b}'.format(d)   \n",
    "\n",
    "for d in data:\n",
    "    data_str = data_str + '{0:08b}'.format(d)"
   ]
  },
  {
   "cell_type": "code",
   "execution_count": 63,
   "metadata": {},
   "outputs": [],
   "source": [
    "file = open('CSC_weights.txt', 'w') #write to file\n",
    "file.write(IP_str)    \n",
    "file.write(RI_str)    \n",
    "file.write(data_str)    \n",
    "file.close()"
   ]
  },
  {
   "cell_type": "code",
   "execution_count": 64,
   "metadata": {},
   "outputs": [],
   "source": [
    "file = open('CSE_length.txt', 'w') #write to file\n",
    "file.write('{0:008b}'.format(len(IP_str)))    \n",
    "file.write('{0:008b}'.format(len(RI_str)))    \n",
    "file.write('{0:008b}'.format(len(data_str)))  \n",
    "file.close()"
   ]
  },
  {
   "cell_type": "code",
   "execution_count": 3,
   "metadata": {},
   "outputs": [],
   "source": [
    "import numpy as np\n",
    "\n",
    "origin_act = np.array(origin_act)\n",
    "\n",
    "IP_list = np.array([0])\n",
    "RI_list = np.array([])\n",
    "data = np.array([])\n",
    "\n",
    "for i in range(len(origin_act[0])):\n",
    "    IP = IP_list[len(IP_list)-1] + np.sum(origin_act[:,i] != 0)\n",
    "    IP_list = np.append(IP_list,IP)\n",
    "\n",
    "    RI = np.nonzero(origin_act[:,i])[0]\n",
    "    if RI_list.size == 0:\n",
    "        RI_list = RI\n",
    "    elif RI.size != 0:\n",
    "        RI_list = np.hstack((RI_list, RI))\n",
    "\n",
    "    datum = origin_act[:,i][RI]\n",
    "    if data.size == 0:\n",
    "        data = datum\n",
    "    elif datum.size != 0:\n",
    "        data = np.hstack((data, datum))"
   ]
  },
  {
   "cell_type": "code",
   "execution_count": 4,
   "metadata": {},
   "outputs": [],
   "source": [
    "IP_str = \"\"\n",
    "RI_str = \"\"\n",
    "data_str = \"\"\n",
    "\n",
    "for d in IP_list:\n",
    "    IP_str = IP_str + '{0:08b}'.format(d)\n",
    "\n",
    "for d in RI_list:\n",
    "    RI_str = RI_str + '{0:08b}'.format(d)   \n",
    "\n",
    "for d in data:\n",
    "    data_str = data_str + '{0:08b}'.format(d)"
   ]
  },
  {
   "cell_type": "code",
   "execution_count": 5,
   "metadata": {},
   "outputs": [],
   "source": [
    "file = open('CSC_activations.txt', 'w') #write to file\n",
    "file.write(IP_str)    \n",
    "file.write(RI_str)    \n",
    "file.write(data_str)    \n",
    "file.close()"
   ]
  },
  {
   "cell_type": "code",
   "execution_count": 6,
   "metadata": {},
   "outputs": [],
   "source": [
    "file = open('CSC_length_act.txt', 'w') #write to file\n",
    "file.write('{0:008b}'.format(len(IP_str)))    \n",
    "file.write('{0:008b}'.format(len(RI_str)))    \n",
    "file.write('{0:008b}'.format(len(data_str)))  \n",
    "file.close()"
   ]
  }
 ],
 "metadata": {
  "kernelspec": {
   "display_name": "Python 3",
   "language": "python",
   "name": "python3"
  },
  "language_info": {
   "codemirror_mode": {
    "name": "ipython",
    "version": 3
   },
   "file_extension": ".py",
   "mimetype": "text/x-python",
   "name": "python",
   "nbconvert_exporter": "python",
   "pygments_lexer": "ipython3",
   "version": "3.12.0"
  }
 },
 "nbformat": 4,
 "nbformat_minor": 2
}
