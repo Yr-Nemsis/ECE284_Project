{
 "cells": [
  {
   "cell_type": "code",
   "execution_count": 1,
   "id": "64c78875",
   "metadata": {},
   "outputs": [],
   "source": [
    "to_encode = \"weights\" #change to \"activations\" to encode activations\n",
    "nums_per_line = 8"
   ]
  },
  {
   "cell_type": "code",
   "execution_count": 2,
   "id": "064cc79f",
   "metadata": {},
   "outputs": [
    {
     "name": "stdout",
     "output_type": "stream",
     "text": [
      "['00000000000000000001000000000000', '00000000000000000000000000000000', '00000000000000000000000000000000', '00000000000000000000000000000000', '00000000000000000000000000000000', '00000000000000000000000000000000', '00000000000000000001000000000000', '00000000000000000000000000000000', '11000000110000000000000000000110', '00000000000000010000000000000000', '00000000110100101101000011100001', '00000000001011000000000000100000', '11010000000000000001000000100000', '00000000000000000000000000000000', '00010000000000100000000000001101', '00000000001011100001000000000000', '00000000000000000000000000000001', '00000000000000000000000000000000', '00000000000100000000000000000000', '00000000000100000000000000000000', '00000000000000000000000000000000', '00000000000000000000000000000000', '00000000000000000000000000000000', '00000000000000000000000000001110', '00000000000000000001000000000000', '00000000000000110000000000000000', '00110000000000110000000011100000', '00000000000000010000000000000000', '00000000000000000000000000010000', '00000000000000000000000000000000', '00000000000000010000000000000000', '00000000000000000000000000010000', '00000000000000000000000001010111', '00000000111001110101000000000000', '01110000000000000100000010010011', '00100000010101000000000001111010', '01000000000011000101000001110000', '00000000000000000000000000000000', '01110000000000101101000001000000', '11010000011100000100000000000111', '00000000000000001101000000010011', '00000000000000000000000000000000', '00010000000000000000000000000000', '00000000000000000000000000010000', '00010000000000000010000000011110', '00000000000000000000000000000000', '00100000000000000000000000000000', '00000000010000000000000000000001', '00000000000000000000000000000000', '00000000000000000000000000000000', '00000000000000000000000000000000', '00000000000000000000000000000000', '00000000000000000000000000000000', '00000000000000000000000000000000', '00000000000000000000000000000000', '00000000000000000000000000000000', '00000000000000000000000000000000', '11010000000001000000000000000000', '00110000000100000100000000000000', '11010000000000110000000000000000', '00100000110000000110000000000000', '00000000000000000000000000000000', '00110000000000001011000001000001', '00000000001000010000000000000001', '00000000000000000000000000000000', '00000000000000000001000000000000', '00000000000000000000000000000000', '00000000000000000000000000100000', '00000000000000000001000000000000', '00000000000000000000000000000000', '00000000000000001101000000000001', '00000000000000000000000011100000']\n"
     ]
    }
   ],
   "source": [
    "filename = to_encode + \"_input.txt\"\n",
    "\n",
    "f = open(filename, \"r\")\n",
    "data = [] # DATALINES: list of lines representing nums_per_line 4-bit numbers\n",
    "\n",
    "for line in f:\n",
    "    data.append(line.strip()) # append bitstring without newline character\n",
    "\n",
    "print(data)\n",
    "\n",
    "f.close()"
   ]
  },
  {
   "cell_type": "code",
   "execution_count": 3,
   "id": "c5445b26",
   "metadata": {},
   "outputs": [
    {
     "name": "stdout",
     "output_type": "stream",
     "text": [
      "['0000', '0001', '0010', '0011', '0100', '0101', '0110', '0111', '1000', '1001', '1010', '1011', '1100', '1101', '1110', '1111']\n",
      "[479, 28, 13, 8, 9, 4, 2, 8, 0, 1, 1, 1, 5, 10, 7, 0]\n"
     ]
    }
   ],
   "source": [
    "# Load list of huffman strings\n",
    "\n",
    "nums = []\n",
    "# PARSED NUMS: separate 4-bit numbers (length of nums is nums_per_line)\n",
    "for d in data:\n",
    "    for i in range(len(d)//4):\n",
    "        nums.append(d[4*i:4*(i+1)])\n",
    "\n",
    "strings = [] #4-BIT STRINGS\n",
    "\n",
    "# generate all possible 4-bit strings\n",
    "for i in range(2):\n",
    "    string = str(i)\n",
    "    for j in range(2):\n",
    "        string += str(j)\n",
    "        for k in range(2):\n",
    "            string += str(k)\n",
    "            for l in range(2):\n",
    "                strings.append(string + str(l))\n",
    "            string = string[:len(string)-1]\n",
    "        string = string[:len(string)-1]\n",
    "    string = string[:len(string)-1]\n",
    "\n",
    "freqs = [] #FREQUENCIES\n",
    "\n",
    "# find the frequencies of the 4-bit strings\n",
    "for s in strings:\n",
    "    freqs.append(nums.count(s))\n",
    "\n",
    "print(strings)\n",
    "print(freqs)"
   ]
  },
  {
   "cell_type": "code",
   "execution_count": 4,
   "id": "27758f62",
   "metadata": {},
   "outputs": [
    {
     "name": "stdout",
     "output_type": "stream",
     "text": [
      "0101 -> 00000\n",
      "1100 -> 00001\n",
      "0100 -> 0001\n",
      "1101 -> 0010\n",
      "0110 -> 001100\n",
      "1001 -> 0011010\n",
      "1010 -> 00110110\n",
      "1000 -> 0011011100\n",
      "1111 -> 0011011101\n",
      "1011 -> 001101111\n",
      "1110 -> 00111\n",
      "0001 -> 010\n",
      "0010 -> 0110\n",
      "0011 -> 01110\n",
      "0111 -> 01111\n",
      "0000 -> 1\n"
     ]
    }
   ],
   "source": [
    "import heapq\n",
    "\n",
    "class Node:\n",
    "    def __init__(self, frequency, value, left=None, right=None):\n",
    "        self.freq = frequency\n",
    "        self.val = value\n",
    "        self.left = left\n",
    "        self.right = right\n",
    "        \n",
    "        self.dir = ''\n",
    "        self.mapping = ''\n",
    "        \n",
    "    # redefine less than operator to compare the frequencies of nodes\n",
    "    def __lt__(self, other_node):\n",
    "        return self.freq < other_node.freq\n",
    "    \n",
    "    def __str__(self):\n",
    "        return \"NODE value: {0} \\tfrequency: {1}\\nleft: {2} \\tright: {3}\\n\\n\".format(self.val, self.freq, self.left, self.right)\n",
    "\n",
    "encoding_map = {}\n",
    "\n",
    "# Credit: this code for printing based on \"printNodes\" method (Geeks for Geeks)\n",
    "def saveHuffmanCode(node, val=''): \n",
    "    # huffman code for current node \n",
    "    newVal = val + str(node.dir) \n",
    "\n",
    "    # if node is not an edge node \n",
    "    # then traverse inside it \n",
    "    if(node.left): \n",
    "        saveHuffmanCode(node.left, newVal) \n",
    "    if(node.right): \n",
    "        saveHuffmanCode(node.right, newVal) \n",
    "\n",
    "    # if node is edge node then \n",
    "    # display its huffman code \n",
    "    if(not node.left and not node.right): \n",
    "        print(f\"{node.val} -> {newVal}\")\n",
    "        \n",
    "        #comment out if only printing and not saving\n",
    "        #node.mapping = newVal\n",
    "        \n",
    "        encoding_map[node.val] = newVal #store value to encoding mappings\n",
    "    \n",
    "    \n",
    "nodes = [] #hold initial nodes\n",
    "\n",
    "for s in range(len(strings)):\n",
    "    heapq.heappush(nodes, Node(freqs[s], strings[s]))\n",
    "\n",
    "while len(nodes) > 1:\n",
    "    left = heapq.heappop(nodes)\n",
    "    right = heapq.heappop(nodes)\n",
    "    \n",
    "    left.dir = 0\n",
    "    right.dir = 1\n",
    "    \n",
    "    # combine smallest nodes for new node / parent\n",
    "    new_node = Node(left.freq + right.freq, left.val + right.val, left, right)\n",
    "    \n",
    "    heapq.heappush(nodes, new_node)\n",
    "    \n",
    "saveHuffmanCode(nodes[0]) #print mappings, save mappings to nodes (can be used to export huffman tree for decoding)"
   ]
  },
  {
   "cell_type": "code",
   "execution_count": 5,
   "id": "ea1f2e01",
   "metadata": {},
   "outputs": [],
   "source": [
    "# encode and output\n",
    "filename = \"encoded_\" + to_encode + \".txt\"\n",
    "f = open(filename, \"w\")\n",
    "\n",
    "nums_written = 0\n",
    "for n in nums:\n",
    "    f.write(encoding_map[n])\n",
    "    \n",
    "    # break lines when nums_per_line encoded numbers are written\n",
    "    nums_written += 1\n",
    "    if(nums_written % nums_per_line == 0):\n",
    "        f.write(\"\\n\")"
   ]
  },
  {
   "cell_type": "code",
   "execution_count": null,
   "id": "8de4c639",
   "metadata": {},
   "outputs": [],
   "source": []
  }
 ],
 "metadata": {
  "kernelspec": {
   "display_name": "Python 3 (ipykernel)",
   "language": "python",
   "name": "python3"
  },
  "language_info": {
   "codemirror_mode": {
    "name": "ipython",
    "version": 3
   },
   "file_extension": ".py",
   "mimetype": "text/x-python",
   "name": "python",
   "nbconvert_exporter": "python",
   "pygments_lexer": "ipython3",
   "version": "3.9.5"
  }
 },
 "nbformat": 4,
 "nbformat_minor": 5
}
